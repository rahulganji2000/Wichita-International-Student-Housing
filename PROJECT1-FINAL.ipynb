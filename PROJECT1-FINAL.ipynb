{
 "cells": [
  {
   "cell_type": "code",
   "execution_count": 1,
   "id": "bf12127f",
   "metadata": {},
   "outputs": [],
   "source": [
    "#import necessary packages\n",
    "import pandas as pd"
   ]
  },
  {
   "cell_type": "code",
   "execution_count": 2,
   "id": "63d86ae8",
   "metadata": {},
   "outputs": [],
   "source": [
    "#create a dataframe named df1 with the ZILLOW_DATA.csv\n",
    "df1=pd.read_csv('ZILLOW_DATA.csv')"
   ]
  },
  {
   "cell_type": "code",
   "execution_count": 3,
   "id": "ef8eaabf",
   "metadata": {},
   "outputs": [
    {
     "data": {
      "text/plain": [
       "(140031799, 4)"
      ]
     },
     "execution_count": 3,
     "metadata": {},
     "output_type": "execute_result"
    }
   ],
   "source": [
    "#finding the shape of df1\n",
    "shape = df1.shape\n",
    "shape"
   ]
  },
  {
   "cell_type": "code",
   "execution_count": 4,
   "id": "35f7a3d6",
   "metadata": {},
   "outputs": [
    {
     "data": {
      "text/plain": [
       "['indicator_id', 'region_id', 'date', 'value']"
      ]
     },
     "execution_count": 4,
     "metadata": {},
     "output_type": "execute_result"
    }
   ],
   "source": [
    "# Get the column names as a list of df1\n",
    "columns_list = df1.columns.tolist()\n",
    "columns_list"
   ]
  },
  {
   "cell_type": "code",
   "execution_count": 5,
   "id": "9f2a76e1",
   "metadata": {},
   "outputs": [
    {
     "name": "stdout",
     "output_type": "stream",
     "text": [
      "         indicator_id  region_id        date     value\n",
      "45988286         ISAW     102001  2023-08-05  684174.0\n",
      "45988289         ISAW     394913  2023-08-05   33641.0\n",
      "45988292         ISAW     753899  2023-08-05   11020.0\n",
      "45988295         ISAW     394463  2023-08-05   15772.0\n",
      "45988298         ISAW     394514  2023-08-05   16794.0\n",
      "...               ...        ...         ...       ...\n",
      "46110578         LSSW     753929  2023-08-05  149375.0\n",
      "46110583         LSSW     394743  2023-08-05  427000.0\n",
      "46110587         LSSW     753874  2023-08-05  361188.0\n",
      "46110592         LSSW     395188  2023-08-05  104250.0\n",
      "46110596         LSSW     394767  2023-08-05  169750.0\n",
      "\n",
      "[12548 rows x 4 columns]\n"
     ]
    }
   ],
   "source": [
    "# Find the row with the latest date\n",
    "latest_date_row = df1[df1['date'] == df1['date'].max()]\n",
    "print(latest_date_row)"
   ]
  },
  {
   "cell_type": "code",
   "execution_count": 40,
   "id": "7044bae4",
   "metadata": {},
   "outputs": [],
   "source": [
    "# Convert date_column to datetime type\n",
    "df1['date'] = pd.to_datetime(df1['date'])\n",
    "\n",
    "# Define start and end dates\n",
    "start_date = pd.to_datetime('2018-08-05')\n",
    "end_date = pd.to_datetime('2023-08-05')\n",
    "\n",
    "# Filter the DataFrame\n",
    "five_data_df = df1[(df1['date'] >= start_date) & (df1['date'] <= end_date)]"
   ]
  },
  {
   "cell_type": "code",
   "execution_count": 41,
   "id": "d77e1429",
   "metadata": {},
   "outputs": [
    {
     "data": {
      "text/plain": [
       "(32072684, 4)"
      ]
     },
     "execution_count": 41,
     "metadata": {},
     "output_type": "execute_result"
    }
   ],
   "source": [
    "five_data_df.shape"
   ]
  },
  {
   "cell_type": "code",
   "execution_count": 8,
   "id": "f273a27b",
   "metadata": {},
   "outputs": [],
   "source": [
    "#create a dataframe named df1 with the ZILLOW_REGIONS.csv\n",
    "df2=pd.read_csv('ZILLOW_REGIONS.csv')"
   ]
  },
  {
   "cell_type": "code",
   "execution_count": 9,
   "id": "603a143e",
   "metadata": {},
   "outputs": [
    {
     "data": {
      "text/plain": [
       "['region_id', 'region_type', 'region']"
      ]
     },
     "execution_count": 9,
     "metadata": {},
     "output_type": "execute_result"
    }
   ],
   "source": [
    "# Get the column names as a list\n",
    "columns_list = df2.columns.tolist()\n",
    "columns_list"
   ]
  },
  {
   "cell_type": "code",
   "execution_count": 10,
   "id": "d47a222e",
   "metadata": {},
   "outputs": [],
   "source": [
    "#create a dataframe named df1 with the ZILLOW_INDICATORS.csv\n",
    "df3=pd.read_csv('ZILLOW_INDICATORS.csv')"
   ]
  },
  {
   "cell_type": "code",
   "execution_count": 11,
   "id": "2864a3d5",
   "metadata": {},
   "outputs": [
    {
     "data": {
      "text/plain": [
       "['indicator_id', 'indicator', 'category']"
      ]
     },
     "execution_count": 11,
     "metadata": {},
     "output_type": "execute_result"
    }
   ],
   "source": [
    "# Get the column names as a list\n",
    "columns_list = df3.columns.tolist()\n",
    "columns_list"
   ]
  },
  {
   "cell_type": "code",
   "execution_count": 12,
   "id": "7e1a9e79",
   "metadata": {},
   "outputs": [],
   "source": [
    "#merge\n",
    "merged_df = pd.merge(ten_data_df, df2, on='region_id', how='inner')\n",
    "merged_df = pd.merge(merged_df, df3, on='indicator_id', how='inner')"
   ]
  },
  {
   "cell_type": "code",
   "execution_count": 13,
   "id": "26f12b81",
   "metadata": {
    "scrolled": false
   },
   "outputs": [
    {
     "data": {
      "text/html": [
       "<div>\n",
       "<style scoped>\n",
       "    .dataframe tbody tr th:only-of-type {\n",
       "        vertical-align: middle;\n",
       "    }\n",
       "\n",
       "    .dataframe tbody tr th {\n",
       "        vertical-align: top;\n",
       "    }\n",
       "\n",
       "    .dataframe thead th {\n",
       "        text-align: right;\n",
       "    }\n",
       "</style>\n",
       "<table border=\"1\" class=\"dataframe\">\n",
       "  <thead>\n",
       "    <tr style=\"text-align: right;\">\n",
       "      <th></th>\n",
       "      <th>indicator_id</th>\n",
       "      <th>region_id</th>\n",
       "      <th>date</th>\n",
       "      <th>value</th>\n",
       "      <th>region_type</th>\n",
       "      <th>region</th>\n",
       "      <th>indicator</th>\n",
       "      <th>category</th>\n",
       "    </tr>\n",
       "  </thead>\n",
       "  <tbody>\n",
       "    <tr>\n",
       "      <th>0</th>\n",
       "      <td>ZATT</td>\n",
       "      <td>3101</td>\n",
       "      <td>2018-08-31</td>\n",
       "      <td>1154447.0</td>\n",
       "      <td>county</td>\n",
       "      <td>Los Angeles County; CA; Los Angeles-Long Beach...</td>\n",
       "      <td>ZHVI All Homes- Top Tier Time Series ($)</td>\n",
       "      <td>Home values</td>\n",
       "    </tr>\n",
       "    <tr>\n",
       "      <th>1</th>\n",
       "      <td>ZATT</td>\n",
       "      <td>3101</td>\n",
       "      <td>2018-09-30</td>\n",
       "      <td>1156435.0</td>\n",
       "      <td>county</td>\n",
       "      <td>Los Angeles County; CA; Los Angeles-Long Beach...</td>\n",
       "      <td>ZHVI All Homes- Top Tier Time Series ($)</td>\n",
       "      <td>Home values</td>\n",
       "    </tr>\n",
       "    <tr>\n",
       "      <th>2</th>\n",
       "      <td>ZATT</td>\n",
       "      <td>3101</td>\n",
       "      <td>2018-10-31</td>\n",
       "      <td>1157021.0</td>\n",
       "      <td>county</td>\n",
       "      <td>Los Angeles County; CA; Los Angeles-Long Beach...</td>\n",
       "      <td>ZHVI All Homes- Top Tier Time Series ($)</td>\n",
       "      <td>Home values</td>\n",
       "    </tr>\n",
       "    <tr>\n",
       "      <th>3</th>\n",
       "      <td>ZATT</td>\n",
       "      <td>3101</td>\n",
       "      <td>2018-11-30</td>\n",
       "      <td>1157891.0</td>\n",
       "      <td>county</td>\n",
       "      <td>Los Angeles County; CA; Los Angeles-Long Beach...</td>\n",
       "      <td>ZHVI All Homes- Top Tier Time Series ($)</td>\n",
       "      <td>Home values</td>\n",
       "    </tr>\n",
       "    <tr>\n",
       "      <th>4</th>\n",
       "      <td>ZATT</td>\n",
       "      <td>3101</td>\n",
       "      <td>2018-12-31</td>\n",
       "      <td>1156054.0</td>\n",
       "      <td>county</td>\n",
       "      <td>Los Angeles County; CA; Los Angeles-Long Beach...</td>\n",
       "      <td>ZHVI All Homes- Top Tier Time Series ($)</td>\n",
       "      <td>Home values</td>\n",
       "    </tr>\n",
       "  </tbody>\n",
       "</table>\n",
       "</div>"
      ],
      "text/plain": [
       "  indicator_id  region_id       date      value region_type  \\\n",
       "0         ZATT       3101 2018-08-31  1154447.0      county   \n",
       "1         ZATT       3101 2018-09-30  1156435.0      county   \n",
       "2         ZATT       3101 2018-10-31  1157021.0      county   \n",
       "3         ZATT       3101 2018-11-30  1157891.0      county   \n",
       "4         ZATT       3101 2018-12-31  1156054.0      county   \n",
       "\n",
       "                                              region  \\\n",
       "0  Los Angeles County; CA; Los Angeles-Long Beach...   \n",
       "1  Los Angeles County; CA; Los Angeles-Long Beach...   \n",
       "2  Los Angeles County; CA; Los Angeles-Long Beach...   \n",
       "3  Los Angeles County; CA; Los Angeles-Long Beach...   \n",
       "4  Los Angeles County; CA; Los Angeles-Long Beach...   \n",
       "\n",
       "                                  indicator     category  \n",
       "0  ZHVI All Homes- Top Tier Time Series ($)  Home values  \n",
       "1  ZHVI All Homes- Top Tier Time Series ($)  Home values  \n",
       "2  ZHVI All Homes- Top Tier Time Series ($)  Home values  \n",
       "3  ZHVI All Homes- Top Tier Time Series ($)  Home values  \n",
       "4  ZHVI All Homes- Top Tier Time Series ($)  Home values  "
      ]
     },
     "execution_count": 13,
     "metadata": {},
     "output_type": "execute_result"
    }
   ],
   "source": [
    "merged_df.head()"
   ]
  },
  {
   "cell_type": "code",
   "execution_count": 14,
   "id": "d9a17a89",
   "metadata": {},
   "outputs": [
    {
     "data": {
      "text/plain": [
       "(32072684, 8)"
      ]
     },
     "execution_count": 14,
     "metadata": {},
     "output_type": "execute_result"
    }
   ],
   "source": [
    "merged_df.shape"
   ]
  },
  {
   "cell_type": "code",
   "execution_count": 15,
   "id": "0aff9042",
   "metadata": {},
   "outputs": [],
   "source": [
    "# Save the DataFrame to a CSV file\n",
    "merged_df.to_csv('merged_df_five.csv', index=False)"
   ]
  },
  {
   "cell_type": "code",
   "execution_count": 16,
   "id": "b884bc1c",
   "metadata": {},
   "outputs": [
    {
     "data": {
      "text/plain": [
       "array(['ZHVI All Homes- Top Tier Time Series ($)',\n",
       "       'ZHVI Single-Family Homes Time Series ($)',\n",
       "       'ZHVI All Homes (SFR, Condo/Co-op) Time Series ($)',\n",
       "       'ZHVI Condo/Co-op Time Series ($)',\n",
       "       'ZHVI All Homes- Bottom Tier Time Series ($)',\n",
       "       'ZHVI 5+ Bedroom Time Series ($)',\n",
       "       'ZHVI 2-Bedroom Time Series ($)', 'ZHVI 3-Bedroom Time Series ($)',\n",
       "       'ZHVI 1-Bedroom Time Series ($)', 'ZHVI 4-Bedroom Time Series ($)',\n",
       "       'ZORI (Smoothed): All Homes Plus Multifamily Time Series ($)',\n",
       "       'ZORI (Smoothed, Seasonally Adjusted): All Homes Plus Multifamily Time Series ($)',\n",
       "       'For-Sale Inventory (Smooth, All Homes, Weekly View)',\n",
       "       'Median Sale Price (Smooth, All Homes, Weekly View)',\n",
       "       'For-Sale Inventory (Raw, All Homes, Monthly)',\n",
       "       'Share of Listings With a Price Cut (Raw, SFR Only, Monthly)',\n",
       "       'Share of Listings With a Price Cut (Smooth, SFR Only, Monthly)',\n",
       "       'Mean Days to Pending (Smooth, All Homes, Monthly)',\n",
       "       'For-Sale Inventory (Raw, All Homes, Weekly View)',\n",
       "       'Mean Days to Pending (Raw, All Homes, Monthly)',\n",
       "       'Median Sale Price (Smooth, SFR only, Weekly View)',\n",
       "       'Median List Price (Smooth, SFR Only, Monthly)',\n",
       "       'Share of Listings With a Price Cut (Smooth, All Homes, Weekly View)',\n",
       "       'For-Sale Inventory (Smooth, SFR only, Monthly)',\n",
       "       'Median Sale Price (Smooth & Seasonally Adjusted, SFR only, Weekly View)',\n",
       "       'Mean Days to Pending (Raw, All Homes, Weekly View) ',\n",
       "       'Median List Price (Raw, All Homes, Monthly)',\n",
       "       'For-Sale Inventory (Smooth, SFR only, Weekly View)',\n",
       "       'Mean Days to Pending (Smooth, All Homes, Weekly View)',\n",
       "       'Median List Price (Smooth, All Homes, Monthly)',\n",
       "       'Share of Listings With a Price Cut (Raw, All Homes, Monthly)',\n",
       "       'For-Sale Inventory (Smooth, All Homes, Monthly)',\n",
       "       'For-sale Inventory (Raw, SFR only, Monthly)',\n",
       "       'Median Sale Price (Raw, SFR only, Weekly View)',\n",
       "       'Median List Price (Smooth, All Homes, Weekly View)',\n",
       "       'Median Days to Pending (Raw, All Homes, Weekly View)',\n",
       "       'Median Days to Pending (Smooth, All Homes, Weekly View)',\n",
       "       'Share of Listings With a Price Cut (Raw, SFR Only, Weekly View)',\n",
       "       'Median Sale Price (Smooth, All Homes, Monthly)',\n",
       "       'For-sale Inventory (Raw, SFR only, Weekly View)',\n",
       "       'Median Days to Pending (Raw, All Homes, Monthly)',\n",
       "       'Share of Listings With a Price Cut (Raw, All Homes, Weekly View)',\n",
       "       'Median List Price (Raw, SFR Only, Monthly)',\n",
       "       'Median Sale Price (Smooth & Seasonally Adjusted, SFR only, Monthly)',\n",
       "       'Median Sale Price (Smooth, SFR only, Monthly)',\n",
       "       'Median Sale Price (Smooth & Seasonally Adjusted, All Homes, Monthly)',\n",
       "       'Median List Price (Raw, All Homes, Weekly View)',\n",
       "       'Share of Listings With a Price Cut (Smooth, All Homes, Monthly)',\n",
       "       'Median Sale Price (Raw, All Homes, Weekly View)',\n",
       "       'Share of Listings With a Price Cut (Smooth, SFR Only, Weekly View)',\n",
       "       'Median List Price (Raw, SFR Only, Weekly View)',\n",
       "       'Median Sale Price (Raw, SFR only, Monthly)',\n",
       "       'Median Sale Price (Smooth & Seasonally Adjusted, All Homes, Weekly View)',\n",
       "       'Median List Price (Smooth, SFR Only, Weekly View)',\n",
       "       'Median Sale Price (Raw, All Homes, Monthly)',\n",
       "       'Median Days to Pending (Smooth, All Homes, Monthly)'],\n",
       "      dtype=object)"
      ]
     },
     "execution_count": 16,
     "metadata": {},
     "output_type": "execute_result"
    }
   ],
   "source": [
    "unique_values = merged_df['indicator'].unique()\n",
    "unique_values"
   ]
  },
  {
   "cell_type": "code",
   "execution_count": 20,
   "id": "48084f14",
   "metadata": {},
   "outputs": [],
   "source": [
    "merged_df2=merged_df.query(\"category == 'Homevalue'\")"
   ]
  },
  {
   "cell_type": "code",
   "execution_count": 21,
   "id": "13490f7f",
   "metadata": {},
   "outputs": [
    {
     "data": {
      "text/plain": [
       "(30400000, 8)"
      ]
     },
     "execution_count": 21,
     "metadata": {},
     "output_type": "execute_result"
    }
   ],
   "source": [
    "merged_df2.shape"
   ]
  },
  {
   "cell_type": "code",
   "execution_count": 22,
   "id": "6123e2e1",
   "metadata": {},
   "outputs": [],
   "source": [
    "merged_df3=merged_df.query(\"category == 'Rentals'\")"
   ]
  },
  {
   "cell_type": "code",
   "execution_count": 23,
   "id": "e095c0e0",
   "metadata": {},
   "outputs": [
    {
     "data": {
      "text/plain": [
       "(290958, 8)"
      ]
     },
     "execution_count": 23,
     "metadata": {},
     "output_type": "execute_result"
    }
   ],
   "source": [
    "merged_df3.shape"
   ]
  },
  {
   "cell_type": "code",
   "execution_count": 24,
   "id": "d20b082d",
   "metadata": {},
   "outputs": [],
   "source": [
    "merged_df4=merged_df.query(\"category == 'Inventory and sales'\")"
   ]
  },
  {
   "cell_type": "code",
   "execution_count": 25,
   "id": "24a65a3d",
   "metadata": {},
   "outputs": [
    {
     "data": {
      "text/plain": [
       "(1381726, 8)"
      ]
     },
     "execution_count": 25,
     "metadata": {},
     "output_type": "execute_result"
    }
   ],
   "source": [
    "merged_df4.shape"
   ]
  },
  {
   "cell_type": "code",
   "execution_count": 28,
   "id": "f0b2975d",
   "metadata": {},
   "outputs": [],
   "source": [
    "#merged_df5=merged_df2.query(\"indicator_id == 'Z1BR','Z2BR','Z3BR','Z4B4','Z5BR'\")\n",
    "list =['Z1BR','Z2BR','Z3BR','Z4B4','Z5BR']\n",
    "df5 = merged_df2[merged_df2.indicator_id.isin(list)]\n",
    "#print(df5)"
   ]
  },
  {
   "cell_type": "code",
   "execution_count": 29,
   "id": "324d18b5",
   "metadata": {},
   "outputs": [
    {
     "data": {
      "text/plain": [
       "(12610353, 8)"
      ]
     },
     "execution_count": 29,
     "metadata": {},
     "output_type": "execute_result"
    }
   ],
   "source": [
    "df5.shape"
   ]
  },
  {
   "cell_type": "code",
   "execution_count": 30,
   "id": "6320aa2d",
   "metadata": {},
   "outputs": [
    {
     "data": {
      "text/html": [
       "<div>\n",
       "<style scoped>\n",
       "    .dataframe tbody tr th:only-of-type {\n",
       "        vertical-align: middle;\n",
       "    }\n",
       "\n",
       "    .dataframe tbody tr th {\n",
       "        vertical-align: top;\n",
       "    }\n",
       "\n",
       "    .dataframe thead th {\n",
       "        text-align: right;\n",
       "    }\n",
       "</style>\n",
       "<table border=\"1\" class=\"dataframe\">\n",
       "  <thead>\n",
       "    <tr style=\"text-align: right;\">\n",
       "      <th></th>\n",
       "      <th>indicator_id</th>\n",
       "      <th>region_id</th>\n",
       "      <th>date</th>\n",
       "      <th>value</th>\n",
       "      <th>region_type</th>\n",
       "      <th>region</th>\n",
       "      <th>indicator</th>\n",
       "      <th>category</th>\n",
       "    </tr>\n",
       "  </thead>\n",
       "  <tbody>\n",
       "    <tr>\n",
       "      <th>14124994</th>\n",
       "      <td>Z5BR</td>\n",
       "      <td>3101</td>\n",
       "      <td>2020-06-30</td>\n",
       "      <td>1203494.0</td>\n",
       "      <td>county</td>\n",
       "      <td>Los Angeles County; CA; Los Angeles-Long Beach...</td>\n",
       "      <td>ZHVI 5+ Bedroom Time Series ($)</td>\n",
       "      <td>Home values</td>\n",
       "    </tr>\n",
       "    <tr>\n",
       "      <th>14124995</th>\n",
       "      <td>Z5BR</td>\n",
       "      <td>3101</td>\n",
       "      <td>2020-04-30</td>\n",
       "      <td>1195185.0</td>\n",
       "      <td>county</td>\n",
       "      <td>Los Angeles County; CA; Los Angeles-Long Beach...</td>\n",
       "      <td>ZHVI 5+ Bedroom Time Series ($)</td>\n",
       "      <td>Home values</td>\n",
       "    </tr>\n",
       "    <tr>\n",
       "      <th>14124996</th>\n",
       "      <td>Z5BR</td>\n",
       "      <td>3101</td>\n",
       "      <td>2020-03-31</td>\n",
       "      <td>1187719.0</td>\n",
       "      <td>county</td>\n",
       "      <td>Los Angeles County; CA; Los Angeles-Long Beach...</td>\n",
       "      <td>ZHVI 5+ Bedroom Time Series ($)</td>\n",
       "      <td>Home values</td>\n",
       "    </tr>\n",
       "    <tr>\n",
       "      <th>14124997</th>\n",
       "      <td>Z5BR</td>\n",
       "      <td>3101</td>\n",
       "      <td>2020-10-31</td>\n",
       "      <td>1246664.0</td>\n",
       "      <td>county</td>\n",
       "      <td>Los Angeles County; CA; Los Angeles-Long Beach...</td>\n",
       "      <td>ZHVI 5+ Bedroom Time Series ($)</td>\n",
       "      <td>Home values</td>\n",
       "    </tr>\n",
       "    <tr>\n",
       "      <th>14124998</th>\n",
       "      <td>Z5BR</td>\n",
       "      <td>3101</td>\n",
       "      <td>2020-08-31</td>\n",
       "      <td>1209135.0</td>\n",
       "      <td>county</td>\n",
       "      <td>Los Angeles County; CA; Los Angeles-Long Beach...</td>\n",
       "      <td>ZHVI 5+ Bedroom Time Series ($)</td>\n",
       "      <td>Home values</td>\n",
       "    </tr>\n",
       "  </tbody>\n",
       "</table>\n",
       "</div>"
      ],
      "text/plain": [
       "         indicator_id  region_id       date      value region_type  \\\n",
       "14124994         Z5BR       3101 2020-06-30  1203494.0      county   \n",
       "14124995         Z5BR       3101 2020-04-30  1195185.0      county   \n",
       "14124996         Z5BR       3101 2020-03-31  1187719.0      county   \n",
       "14124997         Z5BR       3101 2020-10-31  1246664.0      county   \n",
       "14124998         Z5BR       3101 2020-08-31  1209135.0      county   \n",
       "\n",
       "                                                     region  \\\n",
       "14124994  Los Angeles County; CA; Los Angeles-Long Beach...   \n",
       "14124995  Los Angeles County; CA; Los Angeles-Long Beach...   \n",
       "14124996  Los Angeles County; CA; Los Angeles-Long Beach...   \n",
       "14124997  Los Angeles County; CA; Los Angeles-Long Beach...   \n",
       "14124998  Los Angeles County; CA; Los Angeles-Long Beach...   \n",
       "\n",
       "                                indicator     category  \n",
       "14124994  ZHVI 5+ Bedroom Time Series ($)  Home values  \n",
       "14124995  ZHVI 5+ Bedroom Time Series ($)  Home values  \n",
       "14124996  ZHVI 5+ Bedroom Time Series ($)  Home values  \n",
       "14124997  ZHVI 5+ Bedroom Time Series ($)  Home values  \n",
       "14124998  ZHVI 5+ Bedroom Time Series ($)  Home values  "
      ]
     },
     "execution_count": 30,
     "metadata": {},
     "output_type": "execute_result"
    }
   ],
   "source": [
    "df5.head()"
   ]
  },
  {
   "cell_type": "code",
   "execution_count": 39,
   "id": "361a18ef",
   "metadata": {},
   "outputs": [],
   "source": [
    "df5.to_csv('df5_final.csv', index=False)"
   ]
  },
  {
   "cell_type": "markdown",
   "id": "23759491",
   "metadata": {},
   "source": [
    "## Check for Duplicates"
   ]
  },
  {
   "cell_type": "code",
   "execution_count": 43,
   "id": "69a5bfd8",
   "metadata": {},
   "outputs": [
    {
     "name": "stdout",
     "output_type": "stream",
     "text": [
      "Number of Duplicate Rows:  0\n"
     ]
    }
   ],
   "source": [
    "duplicate = df5.duplicated().sum()\n",
    "print(\"Number of Duplicate Rows: \",duplicate)"
   ]
  },
  {
   "cell_type": "markdown",
   "id": "081ccffb",
   "metadata": {},
   "source": [
    "## Check for Missing Values"
   ]
  },
  {
   "cell_type": "code",
   "execution_count": 51,
   "id": "4fb878be",
   "metadata": {},
   "outputs": [
    {
     "data": {
      "text/html": [
       "<div>\n",
       "<style scoped>\n",
       "    .dataframe tbody tr th:only-of-type {\n",
       "        vertical-align: middle;\n",
       "    }\n",
       "\n",
       "    .dataframe tbody tr th {\n",
       "        vertical-align: top;\n",
       "    }\n",
       "\n",
       "    .dataframe thead th {\n",
       "        text-align: right;\n",
       "    }\n",
       "</style>\n",
       "<table border=\"1\" class=\"dataframe\">\n",
       "  <thead>\n",
       "    <tr style=\"text-align: right;\">\n",
       "      <th></th>\n",
       "      <th>Missing Count</th>\n",
       "    </tr>\n",
       "  </thead>\n",
       "  <tbody>\n",
       "    <tr>\n",
       "      <th>indicator_id</th>\n",
       "      <td>0</td>\n",
       "    </tr>\n",
       "    <tr>\n",
       "      <th>region_id</th>\n",
       "      <td>0</td>\n",
       "    </tr>\n",
       "    <tr>\n",
       "      <th>date</th>\n",
       "      <td>0</td>\n",
       "    </tr>\n",
       "    <tr>\n",
       "      <th>value</th>\n",
       "      <td>0</td>\n",
       "    </tr>\n",
       "    <tr>\n",
       "      <th>region_type</th>\n",
       "      <td>0</td>\n",
       "    </tr>\n",
       "    <tr>\n",
       "      <th>region</th>\n",
       "      <td>0</td>\n",
       "    </tr>\n",
       "    <tr>\n",
       "      <th>indicator</th>\n",
       "      <td>0</td>\n",
       "    </tr>\n",
       "    <tr>\n",
       "      <th>category</th>\n",
       "      <td>0</td>\n",
       "    </tr>\n",
       "  </tbody>\n",
       "</table>\n",
       "</div>"
      ],
      "text/plain": [
       "              Missing Count\n",
       "indicator_id              0\n",
       "region_id                 0\n",
       "date                      0\n",
       "value                     0\n",
       "region_type               0\n",
       "region                    0\n",
       "indicator                 0\n",
       "category                  0"
      ]
     },
     "execution_count": 51,
     "metadata": {},
     "output_type": "execute_result"
    }
   ],
   "source": [
    "import numpy as np\n",
    "pd.DataFrame({'Missing Count': df5.isnull().sum()})"
   ]
  },
  {
   "cell_type": "markdown",
   "id": "f356fc59",
   "metadata": {},
   "source": [
    "## Data Quality Report"
   ]
  },
  {
   "cell_type": "code",
   "execution_count": 52,
   "id": "8349ace7",
   "metadata": {},
   "outputs": [
    {
     "name": "stdout",
     "output_type": "stream",
     "text": [
      "Number of rows: 12610353\n",
      "Number of columns: 8\n"
     ]
    }
   ],
   "source": [
    "# Get the number of rows and columns\n",
    "num_rows, num_columns = df5.shape\n",
    "\n",
    "# Print the results\n",
    "print(\"Number of rows:\", num_rows)\n",
    "print(\"Number of columns:\", num_columns)"
   ]
  },
  {
   "cell_type": "code",
   "execution_count": 48,
   "id": "11301058",
   "metadata": {},
   "outputs": [
    {
     "data": {
      "text/html": [
       "<div>\n",
       "<style scoped>\n",
       "    .dataframe tbody tr th:only-of-type {\n",
       "        vertical-align: middle;\n",
       "    }\n",
       "\n",
       "    .dataframe tbody tr th {\n",
       "        vertical-align: top;\n",
       "    }\n",
       "\n",
       "    .dataframe thead th {\n",
       "        text-align: right;\n",
       "    }\n",
       "</style>\n",
       "<table border=\"1\" class=\"dataframe\">\n",
       "  <thead>\n",
       "    <tr style=\"text-align: right;\">\n",
       "      <th></th>\n",
       "      <th>Data Type</th>\n",
       "    </tr>\n",
       "  </thead>\n",
       "  <tbody>\n",
       "    <tr>\n",
       "      <th>indicator_id</th>\n",
       "      <td>object</td>\n",
       "    </tr>\n",
       "    <tr>\n",
       "      <th>region_id</th>\n",
       "      <td>int64</td>\n",
       "    </tr>\n",
       "    <tr>\n",
       "      <th>date</th>\n",
       "      <td>datetime64[ns]</td>\n",
       "    </tr>\n",
       "    <tr>\n",
       "      <th>value</th>\n",
       "      <td>float64</td>\n",
       "    </tr>\n",
       "    <tr>\n",
       "      <th>region_type</th>\n",
       "      <td>object</td>\n",
       "    </tr>\n",
       "    <tr>\n",
       "      <th>region</th>\n",
       "      <td>object</td>\n",
       "    </tr>\n",
       "    <tr>\n",
       "      <th>indicator</th>\n",
       "      <td>object</td>\n",
       "    </tr>\n",
       "    <tr>\n",
       "      <th>category</th>\n",
       "      <td>object</td>\n",
       "    </tr>\n",
       "  </tbody>\n",
       "</table>\n",
       "</div>"
      ],
      "text/plain": [
       "                   Data Type\n",
       "indicator_id          object\n",
       "region_id              int64\n",
       "date          datetime64[ns]\n",
       "value                float64\n",
       "region_type           object\n",
       "region                object\n",
       "indicator             object\n",
       "category              object"
      ]
     },
     "execution_count": 48,
     "metadata": {},
     "output_type": "execute_result"
    }
   ],
   "source": [
    "pd.DataFrame({'Data Type': df5.dtypes})"
   ]
  },
  {
   "cell_type": "code",
   "execution_count": 58,
   "id": "d8a9c068",
   "metadata": {},
   "outputs": [
    {
     "data": {
      "text/html": [
       "<div>\n",
       "<style scoped>\n",
       "    .dataframe tbody tr th:only-of-type {\n",
       "        vertical-align: middle;\n",
       "    }\n",
       "\n",
       "    .dataframe tbody tr th {\n",
       "        vertical-align: top;\n",
       "    }\n",
       "\n",
       "    .dataframe thead th {\n",
       "        text-align: right;\n",
       "    }\n",
       "</style>\n",
       "<table border=\"1\" class=\"dataframe\">\n",
       "  <thead>\n",
       "    <tr style=\"text-align: right;\">\n",
       "      <th></th>\n",
       "      <th>Summary</th>\n",
       "    </tr>\n",
       "  </thead>\n",
       "  <tbody>\n",
       "    <tr>\n",
       "      <th>count</th>\n",
       "      <td>12610353.00</td>\n",
       "    </tr>\n",
       "    <tr>\n",
       "      <th>mean</th>\n",
       "      <td>306390.45</td>\n",
       "    </tr>\n",
       "    <tr>\n",
       "      <th>std</th>\n",
       "      <td>407225.02</td>\n",
       "    </tr>\n",
       "    <tr>\n",
       "      <th>min</th>\n",
       "      <td>8028.00</td>\n",
       "    </tr>\n",
       "    <tr>\n",
       "      <th>25%</th>\n",
       "      <td>120627.00</td>\n",
       "    </tr>\n",
       "    <tr>\n",
       "      <th>50%</th>\n",
       "      <td>202290.00</td>\n",
       "    </tr>\n",
       "    <tr>\n",
       "      <th>75%</th>\n",
       "      <td>351807.00</td>\n",
       "    </tr>\n",
       "    <tr>\n",
       "      <th>max</th>\n",
       "      <td>32731812.00</td>\n",
       "    </tr>\n",
       "  </tbody>\n",
       "</table>\n",
       "</div>"
      ],
      "text/plain": [
       "          Summary\n",
       "count 12610353.00\n",
       "mean    306390.45\n",
       "std     407225.02\n",
       "min       8028.00\n",
       "25%     120627.00\n",
       "50%     202290.00\n",
       "75%     351807.00\n",
       "max   32731812.00"
      ]
     },
     "execution_count": 58,
     "metadata": {},
     "output_type": "execute_result"
    }
   ],
   "source": [
    "# Set the display format to show values in millions\n",
    "pd.options.display.float_format = '{:.2f}'.format\n",
    "\n",
    "# Generate a summary for the 'Age' column\n",
    "summary =  df5['value'].describe()\n",
    "\n",
    "# Print the summary for the 'Age' column\n",
    "pd.DataFrame({'Summary': summary})"
   ]
  },
  {
   "cell_type": "code",
   "execution_count": 63,
   "id": "3029c9ad",
   "metadata": {},
   "outputs": [
    {
     "data": {
      "image/png": "[encoded data removed]",
      "text/plain": [
       "<Figure size 576x432 with 1 Axes>"
      ]
     },
     "metadata": {
      "needs_background": "light"
     },
     "output_type": "display_data"
    }
   ],
   "source": [
    "import matplotlib.pyplot as plt\n",
    "import seaborn as sns\n",
    "\n",
    "# Create a box plot to visualize outliers\n",
    "plt.figure(figsize=(8, 6))\n",
    "sns.boxplot(x='value', data=df5)\n",
    "plt.title('Box Plot of Values (Outliers Highlighted)')\n",
    "plt.show()"
   ]
  },
  {
   "cell_type": "code",
   "execution_count": 67,
   "id": "5acd8452",
   "metadata": {},
   "outputs": [
    {
     "data": {
      "image/png": "[encoded data removed]",
      "text/plain": [
       "<Figure size 576x432 with 1 Axes>"
      ]
     },
     "metadata": {
      "needs_background": "light"
     },
     "output_type": "display_data"
    }
   ],
   "source": [
    "from matplotlib.ticker import FuncFormatter\n",
    "# Group the data by 'Region Type' and count occurrences\n",
    "region_type_counts = df5['region_type'].value_counts()\n",
    "\n",
    "# Create a bar plot to visualize the counts\n",
    "plt.figure(figsize=(8, 6))\n",
    "\n",
    "# Custom formatter to display counts as integers without scientific notation\n",
    "def format_func(value, tick_number):\n",
    "    return f'{int(value):,}'\n",
    "\n",
    "ax = region_type_counts.plot(kind='bar', color='skyblue')\n",
    "plt.title('Count of Region Types')\n",
    "plt.xlabel('region_type')\n",
    "plt.ylabel('Count')\n",
    "\n",
    "# Apply the custom formatter to the y-axis\n",
    "ax.yaxis.set_major_formatter(FuncFormatter(format_func))\n",
    "\n",
    "plt.xticks(rotation=45)  # Rotate x-axis labels for better readability\n",
    "plt.show()"
   ]
  },
  {
   "cell_type": "code",
   "execution_count": 68,
   "id": "f33c1317",
   "metadata": {},
   "outputs": [
    {
     "data": {
      "image/png": "[encoded data removed]",
      "text/plain": [
       "<Figure size 576x432 with 1 Axes>"
      ]
     },
     "metadata": {
      "needs_background": "light"
     },
     "output_type": "display_data"
    }
   ],
   "source": [
    "# Group the data by 'Indicator' and count occurrences\n",
    "indicator_counts = df5['indicator'].value_counts()\n",
    "\n",
    "# Create a bar plot to visualize the counts\n",
    "plt.figure(figsize=(8, 6))\n",
    "\n",
    "# Custom formatter to display counts as integers without scientific notation\n",
    "def format_func(value, tick_number):\n",
    "    return f'{int(value):,}'\n",
    "\n",
    "ax = indicator_counts.plot(kind='bar', color='skyblue')\n",
    "plt.title('Count of Indicators')\n",
    "plt.xlabel('indicator')\n",
    "plt.ylabel('Count')\n",
    "\n",
    "# Apply the custom formatter to the y-axis\n",
    "ax.yaxis.set_major_formatter(FuncFormatter(format_func))\n",
    "\n",
    "plt.xticks(rotation=45)  # Rotate x-axis labels for better readability\n",
    "plt.show()"
   ]
  },
  {
   "cell_type": "code",
   "execution_count": null,
   "id": "3045469f",
   "metadata": {},
   "outputs": [],
   "source": []
  }
 ],
 "metadata": {
  "kernelspec": {
   "display_name": "Python 3 (ipykernel)",
   "language": "python",
   "name": "python3"
  },
  "language_info": {
   "codemirror_mode": {
    "name": "ipython",
    "version": 3
   },
   "file_extension": ".py",
   "mimetype": "text/x-python",
   "name": "python",
   "nbconvert_exporter": "python",
   "pygments_lexer": "ipython3",
   "version": "3.9.12"
  }
 },
 "nbformat": 4,
 "nbformat_minor": 5
}
