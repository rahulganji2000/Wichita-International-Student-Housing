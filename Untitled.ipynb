{
 "cells": [
  {
   "cell_type": "code",
   "execution_count": 9,
   "id": "1ab492bf",
   "metadata": {},
   "outputs": [
    {
     "name": "stdout",
     "output_type": "stream",
     "text": [
      "done\n"
     ]
    }
   ],
   "source": [
    "from scipy import stats\n",
    "from sklearn.linear_model import LinearRegression\n",
    "from statsmodels.compat import lzip\n",
    "from statsmodels.formula.api import ols\n",
    "from statsmodels.stats.anova import anova_lm\n",
    "from statsmodels.stats.outliers_influence import variance_inflation_factor\n",
    "import matplotlib\n",
    "import matplotlib.pyplot as plt\n",
    "import numpy as np\n",
    "import pandas as pd\n",
    "import seaborn as sns\n",
    "import statsmodels.api as sm\n",
    "from numpy import where\n",
    "from collections import Counter\n",
    "from sklearn.datasets import make_blobs\n",
    "from matplotlib import pyplot\n",
    "from sklearn.ensemble import RandomForestClassifier\n",
    "from sklearn.model_selection import train_test_split, GridSearchCV\n",
    "from sklearn import metrics\n",
    "from sklearn.metrics import roc_auc_score\n",
    "from sklearn.metrics import roc_curve\n",
    "from sklearn.datasets import make_classification\n",
    "from sklearn.model_selection import train_test_split\n",
    "from sklearn.metrics import f1_score\n",
    "from sklearn.covariance import EllipticEnvelope\n",
    "from sklearn.ensemble import IsolationForest\n",
    "from sklearn.svm import OneClassSVM\n",
    "from sklearn.metrics import auc\n",
    "from sklearn.model_selection import cross_val_score\n",
    "from sklearn.model_selection import RepeatedStratifiedKFold\n",
    "from sklearn.svm import SVC\n",
    "from sklearn import svm\n",
    "from sklearn.linear_model import LogisticRegression\n",
    "from sklearn.feature_selection import RFE\n",
    "from sklearn.naive_bayes import GaussianNB\n",
    "from sklearn.metrics import accuracy_score\n",
    "from sklearn.preprocessing import StandardScaler \n",
    "from sklearn.neighbors import KNeighborsClassifier\n",
    "from sklearn.metrics import classification_report, confusion_matrix\n",
    "from collections import Counter\n",
    "from sklearn.dummy import DummyClassifier\n",
    "from mlxtend.plotting import plot_confusion_matrix\n",
    "import matplotlib.pyplot as plt\n",
    "import seaborn as sns\n",
    "%matplotlib inline\n",
    "\n",
    "from numpy import mean\n",
    "print (\"done\")\n",
    "\n",
    "%matplotlib inline"
   ]
  },
  {
   "cell_type": "code",
   "execution_count": 4,
   "id": "d4950df1",
   "metadata": {},
   "outputs": [
    {
     "name": "stdout",
     "output_type": "stream",
     "text": [
      "<class 'pandas.core.frame.DataFrame'>\n",
      "RangeIndex: 172 entries, 0 to 171\n",
      "Data columns (total 21 columns):\n",
      " #   Column                                                                                                                    Non-Null Count  Dtype  \n",
      "---  ------                                                                                                                    --------------  -----  \n",
      " 0   Where are you living currently?                                                                                           172 non-null    object \n",
      " 1   How long have you been in Wichita? (in months)                                                                            172 non-null    float64\n",
      " 2   What is your apartment name? (street name if housing)                                                                     172 non-null    object \n",
      " 3   How many people are staying in your unit?                                                                                 172 non-null    float64\n",
      " 4   What is the size of your unit?                                                                                            172 non-null    object \n",
      " 5   Overall, how satisfied are you with your current living?                                                                  172 non-null    float64\n",
      " 6   On a scale of responsiveness, how efficient is the management of your apartment complex? (in maintenance services etc.,)  172 non-null    float64\n",
      " 7   What are your thoughts on the level of safety in the vicinity of your residence?                                          172 non-null    float64\n",
      " 8   What is the total monthly rent of your unit?                                                                              172 non-null    float64\n",
      " 9   What was the total amount you paid initially, covering fees such as application fees, deposit fees, and others?           172 non-null    float64\n",
      " 10  Are you paying rental insurance for your unit monthly?                                                                    172 non-null    object \n",
      " 11  If yes, what is your monthly rental insurance?                                                                            172 non-null    float64\n",
      " 12  What is the approximate total amount of monthly bills (electricity, parking, etc.,) not included in your rent?            172 non-null    float64\n",
      " 13  Do your apartment require guarantor?                                                                                      172 non-null    object \n",
      " 14  Is your apartment pet friendly?                                                                                           172 non-null    object \n",
      " 15  What is your preferred mode of transportation when leaving your residence?                                                172 non-null    object \n",
      " 16  What is the duration of time it takes you to walk from your residence to the closest transit stop?                        172 non-null    float64\n",
      " 17  What is the duration of time it takes for transit to reach from your stop to the university?                              172 non-null    float64\n",
      " 18  What is the approximate duration of time, in minutes, it takes for you to reach your closest grocery store?               172 non-null    float64\n",
      " 19  What is the approximate duration of time it takes for you to reach your preferred nearby restaurant?                      172 non-null    float64\n",
      " 20  What type of laundry amenities are available in your accommodation?                                                       172 non-null    object \n",
      "dtypes: float64(13), object(8)\n",
      "memory usage: 28.3+ KB\n"
     ]
    }
   ],
   "source": [
    "# Read CSV file into a Pandas DataFrame\n",
    "df = pd.read_csv('q1.csv')\n",
    "df.info()"
   ]
  },
  {
   "cell_type": "code",
   "execution_count": 8,
   "id": "750ec62b",
   "metadata": {},
   "outputs": [
    {
     "name": "stdout",
     "output_type": "stream",
     "text": [
      "Counts for Class 4.0:\n",
      "4.0    69\n",
      "5.0    65\n",
      "3.0    31\n",
      "1.0     4\n",
      "2.0     3\n",
      "Name: Overall, how satisfied are you with your current living?, dtype: int64\n",
      "Counts for Class 5.0:\n",
      "4.0    69\n",
      "5.0    65\n",
      "3.0    31\n",
      "1.0     4\n",
      "2.0     3\n",
      "Name: Overall, how satisfied are you with your current living?, dtype: int64\n",
      "Counts for Class 3.0:\n",
      "4.0    69\n",
      "5.0    65\n",
      "3.0    31\n",
      "1.0     4\n",
      "2.0     3\n",
      "Name: Overall, how satisfied are you with your current living?, dtype: int64\n",
      "Counts for Class 1.0:\n",
      "4.0    69\n",
      "5.0    65\n",
      "3.0    31\n",
      "1.0     4\n",
      "2.0     3\n",
      "Name: Overall, how satisfied are you with your current living?, dtype: int64\n",
      "Counts for Class 2.0:\n",
      "4.0    69\n",
      "5.0    65\n",
      "3.0    31\n",
      "1.0     4\n",
      "2.0     3\n",
      "Name: Overall, how satisfied are you with your current living?, dtype: int64\n"
     ]
    }
   ],
   "source": [
    "# print counts for each class\n",
    "class_counts = df['Overall, how satisfied are you with your current living?'].value_counts()\n",
    "for cls in class_counts.index:\n",
    "    print(f'Counts for Class {cls}:')\n",
    "    print(df['Overall, how satisfied are you with your current living?'].value_counts())"
   ]
  },
  {
   "cell_type": "code",
   "execution_count": null,
   "id": "ca3d418a",
   "metadata": {},
   "outputs": [],
   "source": [
    "#Fix imbalance. Code goes here.\n",
    "from numpy import where\n",
    "from collections import Counter\n",
    "from sklearn.datasets import make_classification\n",
    "from matplotlib import pyplot\n",
    "\n",
    "# assume X is your feature matrix and y is your target variable\n",
    "smote = SMOTE()\n",
    "X_resampled, y_resampled = smote.fit_resample(X, y)\n",
    "\n",
    "# print the class distribution of the resampled dataset\n",
    "print('Original dataset shape:', Counter(y))\n",
    "print('Resampled dataset shape:', Counter(y_resampled))"
   ]
  }
 ],
 "metadata": {
  "kernelspec": {
   "display_name": "Python 3 (ipykernel)",
   "language": "python",
   "name": "python3"
  },
  "language_info": {
   "codemirror_mode": {
    "name": "ipython",
    "version": 3
   },
   "file_extension": ".py",
   "mimetype": "text/x-python",
   "name": "python",
   "nbconvert_exporter": "python",
   "pygments_lexer": "ipython3",
   "version": "3.9.7"
  }
 },
 "nbformat": 4,
 "nbformat_minor": 5
}
